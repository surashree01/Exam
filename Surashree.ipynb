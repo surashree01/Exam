{
 "cells": [
  {
   "cell_type": "markdown",
   "metadata": {
    "id": "vIYHj3rXQlxm"
   },
   "source": [
    "Write a program to count the sub_string from main string\n",
    "Example:- A B C D C D C\n",
    "Sub_string= C D C result =2\n"
   ]
  },
  {
   "cell_type": "code",
   "execution_count": 1,
   "metadata": {
    "colab": {
     "base_uri": "https://localhost:8080/"
    },
    "id": "7RXHpVByQtE-",
    "outputId": "8a0e52c3-1a44-48c0-84b3-81bf26006505"
   },
   "outputs": [
    {
     "name": "stdout",
     "output_type": "stream",
     "text": [
      "Occurrences of 'C D C' in 'A B C D C D C': 2\n"
     ]
    }
   ],
   "source": [
    "def count_substring(main_string, sub_string):\n",
    "\n",
    "    main_list = main_string.split()\n",
    "    sub_list = sub_string.split()\n",
    "\n",
    "\n",
    "    main_length = len(main_list)\n",
    "    sub_length = len(sub_list)\n",
    "\n",
    "\n",
    "    count = 0\n",
    "\n",
    "\n",
    "    for i in range(main_length - sub_length + 1):\n",
    "        if main_list[i:i + sub_length] == sub_list:\n",
    "            count += 1\n",
    "\n",
    "    return count\n",
    "\n",
    "\n",
    "main_string = \"A B C D C D C\"\n",
    "sub_string = \"C D C\"\n",
    "result = count_substring(main_string, sub_string)\n",
    "print(f\"Occurrences of '{sub_string}' in '{main_string}': {result}\")\n"
   ]
  },
  {
   "cell_type": "markdown",
   "metadata": {
    "id": "qt8xYnLSRGKj"
   },
   "source": [
    "Write a program to take 4 number and store in list\n",
    "[2,4,6,8] find the factorial of the each number of the list and store the value  in the list\n"
   ]
  },
  {
   "cell_type": "code",
   "execution_count": 2,
   "metadata": {
    "colab": {
     "base_uri": "https://localhost:8080/"
    },
    "id": "YZDmAY_JRVSc",
    "outputId": "834193bf-db05-4190-dc5b-fd7059622c98"
   },
   "outputs": [
    {
     "name": "stdout",
     "output_type": "stream",
     "text": [
      "Original list: [2, 4, 6, 8]\n",
      "List with factorials: [2, 24, 720, 40320]\n"
     ]
    }
   ],
   "source": [
    "import math\n",
    "\n",
    "\n",
    "numbers = [2, 4, 6, 8]\n",
    "\n",
    "\n",
    "factorials = [math.factorial(num) for num in numbers]\n",
    "\n",
    "\n",
    "print(\"Original list:\", numbers)\n",
    "print(\"List with factorials:\", factorials)\n"
   ]
  },
  {
   "cell_type": "markdown",
   "metadata": {
    "id": "H2LK5UYGRdMI"
   },
   "source": [
    "Create a strong password combining words, numbers and characters.\n",
    "(* )Keep creating the new password until you find one you like  \n"
   ]
  },
  {
   "cell_type": "code",
   "execution_count": 3,
   "metadata": {
    "colab": {
     "base_uri": "https://localhost:8080/"
    },
    "id": "DyTu3QRsRwo1",
    "outputId": "5d81903a-7691-4dee-ab67-693ae9cffc89"
   },
   "outputs": [
    {
     "name": "stdout",
     "output_type": "stream",
     "text": [
      "Generated password: m7H[/ThTAM,F\n"
     ]
    },
    {
     "name": "stdin",
     "output_type": "stream",
     "text": [
      "Do you like this password? (yes/no):  yes\n"
     ]
    },
    {
     "name": "stdout",
     "output_type": "stream",
     "text": [
      "Password accepted.\n"
     ]
    }
   ],
   "source": [
    "import random\n",
    "import string\n",
    "\n",
    "def generate_password(length=12):\n",
    "    # Define the characters to use in the password\n",
    "    letters = string.ascii_letters  # a-zA-Z\n",
    "    digits = string.digits          # 0-9\n",
    "    special_chars = string.punctuation  # !@#$%^&*() etc.\n",
    "\n",
    "\n",
    "    all_chars = letters + digits + special_chars\n",
    "\n",
    "\n",
    "    password = [\n",
    "        random.choice(letters),\n",
    "        random.choice(digits),\n",
    "        random.choice(special_chars)\n",
    "    ]\n",
    "\n",
    "\n",
    "    password += random.choices(all_chars, k=length - 3)\n",
    "\n",
    "\n",
    "    random.shuffle(password)\n",
    "\n",
    "\n",
    "    return ''.join(password)\n",
    "\n",
    "def main():\n",
    "    while True:\n",
    "\n",
    "        new_password = generate_password()\n",
    "\n",
    "\n",
    "        print(f\"Generated password: {new_password}\")\n",
    "\n",
    "\n",
    "        user_input = input(\"Do you like this password? (yes/no): \").strip().lower()\n",
    "\n",
    "\n",
    "        if user_input == 'yes':\n",
    "            print(\"Password accepted.\")\n",
    "            break\n",
    "        elif user_input == 'no':\n",
    "            print(\"Generating a new password...\\n\")\n",
    "        else:\n",
    "            print(\"Invalid input. Please type 'yes' or 'no'.\\n\")\n",
    "\n",
    "\n",
    "main()\n"
   ]
  },
  {
   "cell_type": "markdown",
   "metadata": {
    "id": "mHr2jw2_SGep"
   },
   "source": [
    "Checking of the vowels inside the string python\n",
    "\n"
   ]
  },
  {
   "cell_type": "code",
   "execution_count": 4,
   "metadata": {
    "colab": {
     "base_uri": "https://localhost:8080/"
    },
    "id": "S3PUPZXzSYHL",
    "outputId": "ee0e368a-ca49-4716-e32d-fbf3c5a098e9"
   },
   "outputs": [
    {
     "name": "stdout",
     "output_type": "stream",
     "text": [
      "Total number of vowels in 'Hello World! Python is amazing.': 8\n",
      "Vowel 'e': 1 times\n",
      "Vowel 'a': 2 times\n",
      "Vowel 'i': 2 times\n",
      "Vowel 'o': 3 times\n"
     ]
    }
   ],
   "source": [
    "def count_vowels(input_string):\n",
    "\n",
    "    vowels = set(\"aeiouAEIOU\")\n",
    "\n",
    "\n",
    "    vowel_count = {v: 0 for v in vowels}\n",
    "\n",
    "\n",
    "    total_vowels = 0\n",
    "\n",
    "\n",
    "    for char in input_string:\n",
    "        if char in vowels:\n",
    "            vowel_count[char] += 1\n",
    "            total_vowels += 1\n",
    "\n",
    "\n",
    "    print(f\"Total number of vowels in '{input_string}': {total_vowels}\")\n",
    "    for vowel, count in vowel_count.items():\n",
    "        if count > 0:\n",
    "            print(f\"Vowel '{vowel}': {count} times\")\n",
    "\n",
    "\n",
    "input_string = \"Hello World! Python is amazing.\"\n",
    "count_vowels(input_string)\n"
   ]
  },
  {
   "cell_type": "markdown",
   "metadata": {
    "id": "x8NNtTCxSrfh"
   },
   "source": [
    "A python program to access each element of a string in forward and reverse orders using while loop\n"
   ]
  },
  {
   "cell_type": "markdown",
   "metadata": {
    "id": "unaP-5ZhSrcG"
   },
   "source": []
  },
  {
   "cell_type": "code",
   "execution_count": 6,
   "metadata": {
    "colab": {
     "base_uri": "https://localhost:8080/"
    },
    "id": "LZFYJ6DGS0cL",
    "outputId": "e8c5321e-0568-4e69-fac6-c2c3384b08c8"
   },
   "outputs": [
    {
     "name": "stdout",
     "output_type": "stream",
     "text": [
      "Forward order:\n",
      "P y t h o n \n",
      "\n",
      "Reverse order:\n",
      "n o h t y P "
     ]
    }
   ],
   "source": [
    "def print_forward_and_reverse(input_string):\n",
    "\n",
    "    print(\"Forward order:\")\n",
    "    index = 0\n",
    "    while index < len(input_string):\n",
    "        print(input_string[index], end=' ')\n",
    "        index += 1\n",
    "\n",
    "    print(\"\\n\")\n",
    "\n",
    "\n",
    "    print(\"Reverse order:\")\n",
    "    index = len(input_string) - 1\n",
    "    while index >= 0:\n",
    "        print(input_string[index], end=' ')\n",
    "        index -= 1\n",
    "\n",
    "\n",
    "input_string = \"Python\"\n",
    "print_forward_and_reverse(input_string)\n"
   ]
  },
  {
   "cell_type": "markdown",
   "metadata": {
    "id": "p0jTN19iS-cN"
   },
   "source": [
    "Write a python program to know whether a sub- string exists in main string"
   ]
  },
  {
   "cell_type": "code",
   "execution_count": 7,
   "metadata": {
    "colab": {
     "base_uri": "https://localhost:8080/"
    },
    "id": "1yamMO-STJry",
    "outputId": "5c951b87-452d-4ffe-8338-cd3b0c603a03"
   },
   "outputs": [
    {
     "name": "stdout",
     "output_type": "stream",
     "text": [
      "'Python' is found in 'Hello, welcome to the world of Python programming.'.\n"
     ]
    }
   ],
   "source": [
    "def is_substring(main_string, sub_string):\n",
    "\n",
    "    if sub_string in main_string:\n",
    "        print(f\"'{sub_string}' is found in '{main_string}'.\")\n",
    "    else:\n",
    "        print(f\"'{sub_string}' is not found in '{main_string}'.\")\n",
    "\n",
    "\n",
    "main_string = \"Hello, welcome to the world of Python programming.\"\n",
    "sub_string = \"Python\"\n",
    "\n",
    "is_substring(main_string, sub_string)\n"
   ]
  },
  {
   "cell_type": "markdown",
   "metadata": {
    "id": "5hKkVC4UTR3x"
   },
   "source": [
    "A python program to find the first occurrences of sub string in a given main string  "
   ]
  },
  {
   "cell_type": "code",
   "execution_count": 5,
   "metadata": {
    "colab": {
     "base_uri": "https://localhost:8080/"
    },
    "id": "mMfzTKNwTWwQ",
    "outputId": "d06c4fc8-fee2-4ff0-ed49-5c39d5064280"
   },
   "outputs": [
    {
     "name": "stdout",
     "output_type": "stream",
     "text": [
      "First occurrence of 'Python' in 'Hello, welcome to the world of Python programming.' is at index 31.\n"
     ]
    }
   ],
   "source": [
    "def find_first_occurrence(main_string, sub_string):\n",
    "\n",
    "    index = main_string.find(sub_string)\n",
    "\n",
    "    if index != -1:\n",
    "        print(f\"First occurrence of '{sub_string}' in '{main_string}' is at index {index}.\")\n",
    "    else:\n",
    "        print(f\"'{sub_string}' not found in '{main_string}'.\")\n",
    "\n",
    "\n",
    "main_string = \"Hello, welcome to the world of Python programming.\"\n",
    "sub_string = \"Python\"\n",
    "\n",
    "find_first_occurrence(main_string, sub_string)\n"
   ]
  },
  {
   "cell_type": "markdown",
   "metadata": {
    "id": "AliUGBhNTxgU"
   },
   "source": [
    "A python program to insert a sub string in main string in a particular position\n",
    "\n",
    "Example:- enter a string :- it is summer\n",
    "Enter sub_string;- hot\n",
    "Enter position no:- 7\n",
    "Result :- It is hotsummer re"
   ]
  },
  {
   "cell_type": "code",
   "execution_count": null,
   "metadata": {
    "colab": {
     "base_uri": "https://localhost:8080/",
     "height": 373
    },
    "id": "46Bv50rzT0q5",
    "outputId": "ec727448-35b2-4b6a-f8a1-c38055545d48"
   },
   "outputs": [],
   "source": [
    "def insert_substring(main_string, sub_string, position):\n",
    "\n",
    "\n",
    "  if position < 0 or position > len(main_string):\n",
    "    raise ValueError(\"Invalid position\")\n",
    "\n",
    "  return main_string[:position] + sub_string + main_string[position:]\n",
    "\n",
    "if __name__ == \"__main__\":\n",
    "  main_string = input(\"Enter a string: \")\n",
    "  sub_string = input(\"Enter the substring to insert: \")\n",
    "  position = int(input(\"Enter the position to insert at: \"))\n",
    "\n",
    "  result = insert_substring(main_string, sub_string, position)\n",
    "  print(\"Result:\", result)"
   ]
  },
  {
   "cell_type": "markdown",
   "metadata": {
    "id": "GmqLRBftWm-k"
   },
   "source": [
    "genarate an infinite fibonacci series by using genarator yeild\n",
    "\n"
   ]
  },
  {
   "cell_type": "code",
   "execution_count": 20,
   "metadata": {
    "colab": {
     "base_uri": "https://localhost:8080/"
    },
    "id": "COOp7fMtWrTF",
    "outputId": "9a1b3f42-ee17-408e-96e3-96b1a3c8f195"
   },
   "outputs": [
    {
     "name": "stdout",
     "output_type": "stream",
     "text": [
      "0\n",
      "1\n",
      "1\n",
      "2\n",
      "3\n",
      "5\n",
      "8\n",
      "13\n",
      "21\n",
      "34\n"
     ]
    }
   ],
   "source": [
    "def fibonacci_generator():\n",
    "    a, b = 0, 1\n",
    "    while True:\n",
    "        yield a\n",
    "        a, b = b, a + b\n",
    "\n",
    "\n",
    "def main():\n",
    "    fib_gen = fibonacci_generator()\n",
    "    for _ in range(10):\n",
    "        print(next(fib_gen))\n",
    "\n",
    "if __name__ == \"__main__\":\n",
    "    main()\n"
   ]
  }
 ],
 "metadata": {
  "colab": {
   "provenance": []
  },
  "kernelspec": {
   "display_name": "Python 3 (ipykernel)",
   "language": "python",
   "name": "python3"
  },
  "language_info": {
   "codemirror_mode": {
    "name": "ipython",
    "version": 3
   },
   "file_extension": ".py",
   "mimetype": "text/x-python",
   "name": "python",
   "nbconvert_exporter": "python",
   "pygments_lexer": "ipython3",
   "version": "3.12.4"
  }
 },
 "nbformat": 4,
 "nbformat_minor": 4
}
